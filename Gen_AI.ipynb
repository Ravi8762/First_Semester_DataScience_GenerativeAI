{
  "nbformat": 4,
  "nbformat_minor": 0,
  "metadata": {
    "colab": {
      "provenance": [],
      "authorship_tag": "ABX9TyN2Gis0bUeID4dhibeLPJNE",
      "include_colab_link": true
    },
    "kernelspec": {
      "name": "python3",
      "display_name": "Python 3"
    },
    "language_info": {
      "name": "python"
    }
  },
  "cells": [
    {
      "cell_type": "markdown",
      "metadata": {
        "id": "view-in-github",
        "colab_type": "text"
      },
      "source": [
        "<a href=\"https://colab.research.google.com/github/Ravi8762/First_Semester_DataScience_GenerativeAI/blob/main/Gen_AI.ipynb\" target=\"_parent\"><img src=\"https://colab.research.google.com/assets/colab-badge.svg\" alt=\"Open In Colab\"/></a>"
      ]
    },
    {
      "cell_type": "code",
      "source": [
        "x = 10"
      ],
      "metadata": {
        "id": "0ygRZbgXX3CV"
      },
      "execution_count": null,
      "outputs": []
    },
    {
      "cell_type": "code",
      "execution_count": null,
      "metadata": {
        "id": "DGlV0rScWJW7"
      },
      "outputs": [],
      "source": [
        "# Now you can access x"
      ]
    },
    {
      "cell_type": "code",
      "source": [
        "#first program\n",
        "my_sub = \"Generative AI\"\n",
        "my_sub"
      ],
      "metadata": {
        "colab": {
          "base_uri": "https://localhost:8080/",
          "height": 36
        },
        "id": "W4XLPXMdZZ_F",
        "outputId": "24332b76-ec1f-46c8-f661-b3827195392f"
      },
      "execution_count": 1,
      "outputs": [
        {
          "output_type": "execute_result",
          "data": {
            "text/plain": [
              "'Generative AI'"
            ],
            "application/vnd.google.colaboratory.intrinsic+json": {
              "type": "string"
            }
          },
          "metadata": {},
          "execution_count": 1
        }
      ]
    },
    {
      "cell_type": "code",
      "source": [
        "import keyword\n",
        "print(keyword.kwlist)"
      ],
      "metadata": {
        "colab": {
          "base_uri": "https://localhost:8080/"
        },
        "id": "XKFp4d97ZZ8e",
        "outputId": "76567557-99b1-4ab2-c88b-90710e6085c5"
      },
      "execution_count": null,
      "outputs": [
        {
          "output_type": "stream",
          "name": "stdout",
          "text": [
            "['False', 'None', 'True', 'and', 'as', 'assert', 'async', 'await', 'break', 'class', 'continue', 'def', 'del', 'elif', 'else', 'except', 'finally', 'for', 'from', 'global', 'if', 'import', 'in', 'is', 'lambda', 'nonlocal', 'not', 'or', 'pass', 'raise', 'return', 'try', 'while', 'with', 'yield']\n"
          ]
        }
      ]
    },
    {
      "cell_type": "code",
      "source": [
        "#data type\n",
        "#numeric\n",
        "#integer -- absence of decimal\n",
        "x = 0\n",
        "type(x)\n"
      ],
      "metadata": {
        "colab": {
          "base_uri": "https://localhost:8080/"
        },
        "id": "-qC232vmZZ5o",
        "outputId": "8e3bb0d4-9c9a-45db-9a39-d4b5e647584e"
      },
      "execution_count": null,
      "outputs": [
        {
          "output_type": "execute_result",
          "data": {
            "text/plain": [
              "int"
            ]
          },
          "metadata": {},
          "execution_count": 10
        }
      ]
    },
    {
      "cell_type": "code",
      "source": [
        "#floating point number --- presence of decimal point\n",
        "y = 1.0\n",
        "type(y)"
      ],
      "metadata": {
        "colab": {
          "base_uri": "https://localhost:8080/"
        },
        "id": "QUgfLGRVZZ24",
        "outputId": "050993f9-d090-482c-9eeb-091352e667fb"
      },
      "execution_count": null,
      "outputs": [
        {
          "output_type": "execute_result",
          "data": {
            "text/plain": [
              "float"
            ]
          },
          "metadata": {},
          "execution_count": 11
        }
      ]
    },
    {
      "cell_type": "code",
      "source": [
        "#complex number\n",
        "z  = 3+4j\n",
        "type(zi)"
      ],
      "metadata": {
        "colab": {
          "base_uri": "https://localhost:8080/"
        },
        "id": "sD-296qEZZ0J",
        "outputId": "ed596d3b-7649-43f9-fe3f-9dd08e83d5ab"
      },
      "execution_count": null,
      "outputs": [
        {
          "output_type": "execute_result",
          "data": {
            "text/plain": [
              "complex"
            ]
          },
          "metadata": {},
          "execution_count": 14
        }
      ]
    },
    {
      "cell_type": "code",
      "source": [
        "#string---data in text form mostly\n",
        "my_city = \"Solan\"\n",
        "type(my_city)\n"
      ],
      "metadata": {
        "colab": {
          "base_uri": "https://localhost:8080/"
        },
        "id": "Q88ks4moZZZ1",
        "outputId": "5d8590fe-b41a-449b-caa9-08279824a2d6"
      },
      "execution_count": null,
      "outputs": [
        {
          "output_type": "execute_result",
          "data": {
            "text/plain": [
              "str"
            ]
          },
          "metadata": {},
          "execution_count": 15
        }
      ]
    },
    {
      "cell_type": "code",
      "source": [
        "#none---nothing , empty\n",
        "e = None\n",
        "type(e)"
      ],
      "metadata": {
        "colab": {
          "base_uri": "https://localhost:8080/"
        },
        "id": "OF-WoBp6efjJ",
        "outputId": "002ed6f3-f5fb-4637-a113-1ce19f4ed8e6"
      },
      "execution_count": null,
      "outputs": [
        {
          "output_type": "execute_result",
          "data": {
            "text/plain": [
              "NoneType"
            ]
          },
          "metadata": {},
          "execution_count": 16
        }
      ]
    },
    {
      "cell_type": "code",
      "source": [
        "#boolean---True,False\n",
        "z = True\n",
        "type(z)"
      ],
      "metadata": {
        "colab": {
          "base_uri": "https://localhost:8080/"
        },
        "id": "xh6MT5WqerZa",
        "outputId": "d2d8b70c-c694-4bc1-cc50-167ab49e5738"
      },
      "execution_count": null,
      "outputs": [
        {
          "output_type": "execute_result",
          "data": {
            "text/plain": [
              "bool"
            ]
          },
          "metadata": {},
          "execution_count": 17
        }
      ]
    },
    {
      "cell_type": "code",
      "source": [
        "c = False\n",
        "type(c)"
      ],
      "metadata": {
        "colab": {
          "base_uri": "https://localhost:8080/"
        },
        "id": "9ya_YbFHfB63",
        "outputId": "1963739f-6e5c-483c-ec97-0de3be1b344e"
      },
      "execution_count": null,
      "outputs": [
        {
          "output_type": "execute_result",
          "data": {
            "text/plain": [
              "bool"
            ]
          },
          "metadata": {},
          "execution_count": 18
        }
      ]
    },
    {
      "cell_type": "code",
      "source": [
        "#arithematic operator\n",
        "#addition(+)\n",
        "a = 10\n",
        "b = 20\n",
        "c = a+b\n",
        "c"
      ],
      "metadata": {
        "colab": {
          "base_uri": "https://localhost:8080/"
        },
        "id": "pW2nlkhNfLK-",
        "outputId": "78447439-9e23-4093-8e80-ad1a6fb75903"
      },
      "execution_count": null,
      "outputs": [
        {
          "output_type": "execute_result",
          "data": {
            "text/plain": [
              "30"
            ]
          },
          "metadata": {},
          "execution_count": 19
        }
      ]
    },
    {
      "cell_type": "code",
      "source": [
        "#substraction (-)\n",
        "a = 10\n",
        "b = 20\n",
        "c = a-b\n",
        "c"
      ],
      "metadata": {
        "colab": {
          "base_uri": "https://localhost:8080/"
        },
        "id": "LQMyhfEHgB88",
        "outputId": "6be62843-4074-41c9-9094-ae300f80c0bc"
      },
      "execution_count": null,
      "outputs": [
        {
          "output_type": "execute_result",
          "data": {
            "text/plain": [
              "-10"
            ]
          },
          "metadata": {},
          "execution_count": 20
        }
      ]
    },
    {
      "cell_type": "code",
      "source": [
        "#multipicaton(*)\n",
        "a = 10\n",
        "b = 20\n",
        "c = a*b\n",
        "c"
      ],
      "metadata": {
        "colab": {
          "base_uri": "https://localhost:8080/"
        },
        "id": "2XY_g_NPgN-c",
        "outputId": "37937bd4-ab90-4bfb-dc7b-13c875fd78e5"
      },
      "execution_count": null,
      "outputs": [
        {
          "output_type": "execute_result",
          "data": {
            "text/plain": [
              "200"
            ]
          },
          "metadata": {},
          "execution_count": 21
        }
      ]
    },
    {
      "cell_type": "code",
      "source": [
        "# expontiation(**)\n",
        "a = 3\n",
        "b = 2\n",
        "c = a**b\n",
        "c"
      ],
      "metadata": {
        "colab": {
          "base_uri": "https://localhost:8080/"
        },
        "id": "MsqiVBFNgYP_",
        "outputId": "1d0428c9-de11-45cc-b709-1b836dd3c3ba"
      },
      "execution_count": null,
      "outputs": [
        {
          "output_type": "execute_result",
          "data": {
            "text/plain": [
              "9"
            ]
          },
          "metadata": {},
          "execution_count": 23
        }
      ]
    },
    {
      "cell_type": "code",
      "source": [
        "# modulas (%)\n",
        "a = 5\n",
        "b = 2\n",
        "c = a%b\n",
        "c"
      ],
      "metadata": {
        "colab": {
          "base_uri": "https://localhost:8080/"
        },
        "id": "EmDlPuzlg2S2",
        "outputId": "796c13db-236b-4255-967e-14d067d42312"
      },
      "execution_count": null,
      "outputs": [
        {
          "output_type": "execute_result",
          "data": {
            "text/plain": [
              "1"
            ]
          },
          "metadata": {},
          "execution_count": 26
        }
      ]
    },
    {
      "cell_type": "code",
      "source": [
        "#division (/)\n",
        "a = 5\n",
        "b = 2\n",
        "c = a/b\n",
        "c"
      ],
      "metadata": {
        "colab": {
          "base_uri": "https://localhost:8080/"
        },
        "id": "wX-aX61ChGe9",
        "outputId": "eaa3d183-f334-4f5c-fefd-a9293f8c478c"
      },
      "execution_count": null,
      "outputs": [
        {
          "output_type": "execute_result",
          "data": {
            "text/plain": [
              "2.5"
            ]
          },
          "metadata": {},
          "execution_count": 27
        }
      ]
    },
    {
      "cell_type": "code",
      "source": [
        "#floor division(//)\n",
        "a = 5\n",
        "b = 2.0\n",
        "c = a//b\n",
        "c"
      ],
      "metadata": {
        "colab": {
          "base_uri": "https://localhost:8080/"
        },
        "id": "ZQ7LanX1hPbS",
        "outputId": "6c2dd3d8-6ad6-465a-d61a-74c190a76978"
      },
      "execution_count": null,
      "outputs": [
        {
          "output_type": "execute_result",
          "data": {
            "text/plain": [
              "2.0"
            ]
          },
          "metadata": {},
          "execution_count": 29
        }
      ]
    },
    {
      "cell_type": "code",
      "source": [
        "#compound assignment operator\n",
        "a = 10\n",
        "b = 20\n",
        "a+=b\n",
        "a\n",
        "#"
      ],
      "metadata": {
        "colab": {
          "base_uri": "https://localhost:8080/"
        },
        "id": "hdkc5Q3Chep9",
        "outputId": "5d0abd3a-d4d2-4e02-817c-9ec4ea03266e"
      },
      "execution_count": null,
      "outputs": [
        {
          "output_type": "execute_result",
          "data": {
            "text/plain": [
              "30"
            ]
          },
          "metadata": {},
          "execution_count": 30
        }
      ]
    },
    {
      "cell_type": "code",
      "source": [
        "a-=b\n",
        "print(a)"
      ],
      "metadata": {
        "colab": {
          "base_uri": "https://localhost:8080/"
        },
        "id": "SB91bxbvjAR4",
        "outputId": "4011265f-004c-4da5-a614-581a75ac8c98"
      },
      "execution_count": null,
      "outputs": [
        {
          "output_type": "stream",
          "name": "stdout",
          "text": [
            "10\n"
          ]
        }
      ]
    },
    {
      "cell_type": "code",
      "source": [
        "my_list=[1,2,3,4,5]\n",
        "type(my_list)"
      ],
      "metadata": {
        "colab": {
          "base_uri": "https://localhost:8080/"
        },
        "id": "h79l-kbENmqw",
        "outputId": "ebbd1bc7-d412-4b56-d370-70260082868c"
      },
      "execution_count": null,
      "outputs": [
        {
          "output_type": "execute_result",
          "data": {
            "text/plain": [
              "list"
            ]
          },
          "metadata": {},
          "execution_count": 1
        }
      ]
    },
    {
      "cell_type": "code",
      "source": [
        "my_list1=[\"a\",3.14,7,True,None]\n",
        "type(my_list1)"
      ],
      "metadata": {
        "colab": {
          "base_uri": "https://localhost:8080/"
        },
        "id": "J_vf-lJfNmej",
        "outputId": "9ffe3c8c-d788-481a-d4e5-5d4097809e01"
      },
      "execution_count": null,
      "outputs": [
        {
          "output_type": "execute_result",
          "data": {
            "text/plain": [
              "list"
            ]
          },
          "metadata": {},
          "execution_count": 2
        }
      ]
    },
    {
      "cell_type": "code",
      "source": [
        "my_list=[78,94,32,47,89]\n",
        "my_list[0]\n",
        "my_list[-2]"
      ],
      "metadata": {
        "colab": {
          "base_uri": "https://localhost:8080/"
        },
        "id": "RScOVQcYNmPw",
        "outputId": "e6919154-c6a6-4ce9-c739-1a15a6ed688a"
      },
      "execution_count": null,
      "outputs": [
        {
          "output_type": "execute_result",
          "data": {
            "text/plain": [
              "47"
            ]
          },
          "metadata": {},
          "execution_count": 4
        }
      ]
    },
    {
      "cell_type": "code",
      "source": [
        "my_list[6:1]\n",
        "[78,94,55,27,2,3,1]\n",
        "my_list[6:0:-2]"
      ],
      "metadata": {
        "colab": {
          "base_uri": "https://localhost:8080/"
        },
        "id": "oVlDNFycQEnH",
        "outputId": "565ae1de-0649-4746-dc65-abebd2be2ee9"
      },
      "execution_count": null,
      "outputs": [
        {
          "output_type": "execute_result",
          "data": {
            "text/plain": [
              "[89, 32]"
            ]
          },
          "metadata": {},
          "execution_count": 7
        }
      ]
    },
    {
      "cell_type": "code",
      "source": [
        "my_list=[100,200,50,300]\n",
        "min(my_list)\n",
        "max(my_list)\n",
        "sorted(my_list)\n",
        "sorted(my_list,reverse=True)"
      ],
      "metadata": {
        "colab": {
          "base_uri": "https://localhost:8080/"
        },
        "id": "xHn4cBOZRvfP",
        "outputId": "b8052565-db48-4fd0-a01d-f4c072dc6617"
      },
      "execution_count": null,
      "outputs": [
        {
          "output_type": "execute_result",
          "data": {
            "text/plain": [
              "[300, 200, 100, 50]"
            ]
          },
          "metadata": {},
          "execution_count": 14
        }
      ]
    },
    {
      "cell_type": "code",
      "source": [
        "my_list=[100,200,50,300]\n",
        "print(my_list)\n",
        "my_list[0]=99\n",
        "print(my_list)"
      ],
      "metadata": {
        "colab": {
          "base_uri": "https://localhost:8080/"
        },
        "id": "KRNY-zpQRvbp",
        "outputId": "dad92f05-3d1a-4b8c-c11d-2b19034dd1df"
      },
      "execution_count": null,
      "outputs": [
        {
          "output_type": "stream",
          "name": "stdout",
          "text": [
            "[100, 200, 50, 300]\n",
            "[99, 200, 50, 300]\n"
          ]
        }
      ]
    },
    {
      "cell_type": "code",
      "source": [
        "my_list=[100,200,50,300]\n",
        "print(my_list)\n",
        "my_list.append(100) #This method used to add item end of the list\n",
        "print(my_list)"
      ],
      "metadata": {
        "id": "pHV1WlATRvZI",
        "colab": {
          "base_uri": "https://localhost:8080/"
        },
        "outputId": "4ea73482-003b-4e76-bf45-909e1c884d7a"
      },
      "execution_count": null,
      "outputs": [
        {
          "output_type": "stream",
          "name": "stdout",
          "text": [
            "[100, 200, 50, 300]\n",
            "[100, 200, 50, 300, 100]\n"
          ]
        }
      ]
    },
    {
      "cell_type": "code",
      "source": [
        "my_list"
      ],
      "metadata": {
        "id": "fEYSP1BvRvWq",
        "colab": {
          "base_uri": "https://localhost:8080/"
        },
        "outputId": "36456da5-7619-4d39-ca76-bc9fef919f05"
      },
      "execution_count": null,
      "outputs": [
        {
          "output_type": "execute_result",
          "data": {
            "text/plain": [
              "[100, 200, 50, 300, 100]"
            ]
          },
          "metadata": {},
          "execution_count": 5
        }
      ]
    },
    {
      "cell_type": "code",
      "source": [
        "list1 = [47,86,90]\n",
        "my_list.extend(list1)\n",
        "my_list"
      ],
      "metadata": {
        "id": "pqpoawmNRvUD",
        "colab": {
          "base_uri": "https://localhost:8080/"
        },
        "outputId": "e008d664-c48e-43d8-9474-da8853a956e4"
      },
      "execution_count": null,
      "outputs": [
        {
          "output_type": "execute_result",
          "data": {
            "text/plain": [
              "[100, 200, 50, 300, 100, 47, 86, 90]"
            ]
          },
          "metadata": {},
          "execution_count": 6
        }
      ]
    },
    {
      "cell_type": "code",
      "source": [
        "#pop() --remove the item with the help of index\n",
        "my_list.pop(0)\n",
        "my_list\n",
        "\n"
      ],
      "metadata": {
        "id": "mREkN9CDRvRd",
        "colab": {
          "base_uri": "https://localhost:8080/"
        },
        "outputId": "efe90810-f641-44ca-d060-35adf63f23ec"
      },
      "execution_count": null,
      "outputs": [
        {
          "output_type": "execute_result",
          "data": {
            "text/plain": [
              "[]"
            ]
          },
          "metadata": {},
          "execution_count": 25
        }
      ]
    },
    {
      "cell_type": "code",
      "source": [
        "my_list = [100] # add the element 100 to the list\n",
        "my_list.remove(100 ) #this method removes 100 from the list\n",
        "my_list # this will print an empty list"
      ],
      "metadata": {
        "id": "iVVxFgPFXTlv"
      },
      "execution_count": null,
      "outputs": []
    },
    {
      "cell_type": "code",
      "source": [
        "my_list = [100,200,50,300]\n",
        "my_list.index(200)\n",
        "my_list"
      ],
      "metadata": {
        "colab": {
          "base_uri": "https://localhost:8080/"
        },
        "id": "D-bL9ahfXTjW",
        "outputId": "720daf89-6d8a-47e5-e655-c7f692618dc8"
      },
      "execution_count": null,
      "outputs": [
        {
          "output_type": "execute_result",
          "data": {
            "text/plain": [
              "[100, 200, 50, 300]"
            ]
          },
          "metadata": {},
          "execution_count": 29
        }
      ]
    },
    {
      "cell_type": "code",
      "source": [
        "my_list = [100,200,50,300]\n",
        "sorted(my_list, reverse = True) #arrange your list in increasing or decreasing order"
      ],
      "metadata": {
        "colab": {
          "base_uri": "https://localhost:8080/"
        },
        "id": "yxvKm47vXTgi",
        "outputId": "18620965-c264-49ea-9ac8-ac3951e232f1"
      },
      "execution_count": null,
      "outputs": [
        {
          "output_type": "execute_result",
          "data": {
            "text/plain": [
              "[300, 200, 100, 50]"
            ]
          },
          "metadata": {},
          "execution_count": 30
        }
      ]
    },
    {
      "cell_type": "code",
      "source": [
        "my_list = [100,200,50,300]\n",
        "my_list.sort(reverse= True)\n",
        "my_list"
      ],
      "metadata": {
        "colab": {
          "base_uri": "https://localhost:8080/"
        },
        "id": "AIuVb1RTXTbW",
        "outputId": "ad2fc072-0dfb-4fe8-c194-9148a0139aaf"
      },
      "execution_count": null,
      "outputs": [
        {
          "output_type": "execute_result",
          "data": {
            "text/plain": [
              "[300, 200, 100, 50]"
            ]
          },
          "metadata": {},
          "execution_count": 31
        }
      ]
    },
    {
      "cell_type": "code",
      "source": [
        "print(my_list)"
      ],
      "metadata": {
        "colab": {
          "base_uri": "https://localhost:8080/"
        },
        "id": "RuDHtYz7YDYN",
        "outputId": "e5d3c03a-16e8-4846-8f37-ccef201d9ec1"
      },
      "execution_count": null,
      "outputs": [
        {
          "output_type": "stream",
          "name": "stdout",
          "text": [
            "[300, 200, 100, 50]\n"
          ]
        }
      ]
    },
    {
      "cell_type": "code",
      "source": [
        "my_tuple = (100,200,50,300)\n",
        "type(my_tuple)"
      ],
      "metadata": {
        "id": "L8l8UCwVYDWF",
        "colab": {
          "base_uri": "https://localhost:8080/"
        },
        "outputId": "303c0fe2-0620-4bd2-c7ef-0fb4e3e704e7"
      },
      "execution_count": null,
      "outputs": [
        {
          "output_type": "execute_result",
          "data": {
            "text/plain": [
              "tuple"
            ]
          },
          "metadata": {},
          "execution_count": 33
        }
      ]
    },
    {
      "cell_type": "code",
      "source": [
        "x=1,2,3\n",
        "type(x)"
      ],
      "metadata": {
        "id": "ZdxJoqBXYDTv",
        "colab": {
          "base_uri": "https://localhost:8080/"
        },
        "outputId": "c92afc3b-1bf2-47e8-cb82-3a560652bccd"
      },
      "execution_count": null,
      "outputs": [
        {
          "output_type": "execute_result",
          "data": {
            "text/plain": [
              "tuple"
            ]
          },
          "metadata": {},
          "execution_count": 35
        }
      ]
    },
    {
      "cell_type": "code",
      "source": [
        "y=()\n",
        "type(y)"
      ],
      "metadata": {
        "id": "yBIY8gcMYDRX",
        "colab": {
          "base_uri": "https://localhost:8080/"
        },
        "outputId": "99dfe0e3-9a7a-4761-82cf-3aa9dbd6d063"
      },
      "execution_count": null,
      "outputs": [
        {
          "output_type": "execute_result",
          "data": {
            "text/plain": [
              "tuple"
            ]
          },
          "metadata": {},
          "execution_count": 36
        }
      ]
    },
    {
      "cell_type": "code",
      "source": [
        "z = (2)\n",
        "type(z)"
      ],
      "metadata": {
        "id": "ofLecg0rYDOy",
        "colab": {
          "base_uri": "https://localhost:8080/"
        },
        "outputId": "69683d66-c810-4fe2-9140-a3acdd736da3"
      },
      "execution_count": null,
      "outputs": [
        {
          "output_type": "execute_result",
          "data": {
            "text/plain": [
              "int"
            ]
          },
          "metadata": {},
          "execution_count": 37
        }
      ]
    },
    {
      "cell_type": "code",
      "source": [
        "a = (2,)\n",
        "type(a)"
      ],
      "metadata": {
        "id": "WRLln8bnYDMa",
        "colab": {
          "base_uri": "https://localhost:8080/"
        },
        "outputId": "89760829-f7ef-4693-986f-dfbc6872eeee"
      },
      "execution_count": null,
      "outputs": [
        {
          "output_type": "execute_result",
          "data": {
            "text/plain": [
              "tuple"
            ]
          },
          "metadata": {},
          "execution_count": 39
        }
      ]
    },
    {
      "cell_type": "code",
      "source": [
        "my_tuple = (\"Ravi\",3.24,8,True,None)\n",
        "type(my_tuple)"
      ],
      "metadata": {
        "id": "LAYfEpajYDJ9",
        "colab": {
          "base_uri": "https://localhost:8080/"
        },
        "outputId": "55a12ab7-6ea7-4d39-bd61-7ed2e8ba3979"
      },
      "execution_count": null,
      "outputs": [
        {
          "output_type": "execute_result",
          "data": {
            "text/plain": [
              "tuple"
            ]
          },
          "metadata": {},
          "execution_count": 40
        }
      ]
    },
    {
      "cell_type": "code",
      "source": [
        "len(my_tuple)"
      ],
      "metadata": {
        "colab": {
          "base_uri": "https://localhost:8080/"
        },
        "id": "GE8yYxloZ6Pm",
        "outputId": "bca30d42-5332-4329-85aa-10b9ba861a8e"
      },
      "execution_count": null,
      "outputs": [
        {
          "output_type": "execute_result",
          "data": {
            "text/plain": [
              "5"
            ]
          },
          "metadata": {},
          "execution_count": 41
        }
      ]
    },
    {
      "cell_type": "code",
      "source": [
        "# Ensure my_tuple is defined before accessing it\n",
        "my_tuple = (\"Ravi\",3.24,8,True,None)\n",
        "\n",
        "# Attempting to modify a tuple will raise a TypeError, as tuples are immutable\n",
        "# If you need to change the tuple, consider converting it to a list first.\n",
        "# For example:\n",
        "# my_list = list(my_tuple)\n",
        "# my_list[0] = \"Ravi\"\n",
        "# my_tuple = tuple(my_list)"
      ],
      "metadata": {
        "id": "IybElZsTZ6L9"
      },
      "execution_count": null,
      "outputs": []
    },
    {
      "cell_type": "code",
      "source": [
        "state_list = [\"HP\" , \"UP\" , \"MP\" , \"TN\" , \"RJ\"]\n",
        "city_list = [ \"SHIMLA\" , \"LK\" , \"GUR\" , \"CHENNAI\" , \"JAIPUR\"]\n",
        "x = zip(state_list, city_list)\n",
        "x"
      ],
      "metadata": {
        "colab": {
          "base_uri": "https://localhost:8080/"
        },
        "id": "yA8tM4k7Z6Jl",
        "outputId": "8ac6eab6-05b5-4eb8-f208-7c0791aba55b"
      },
      "execution_count": null,
      "outputs": [
        {
          "output_type": "execute_result",
          "data": {
            "text/plain": [
              "<zip at 0x7f688cae6000>"
            ]
          },
          "metadata": {},
          "execution_count": 55
        }
      ]
    },
    {
      "cell_type": "code",
      "source": [
        "list(x)"
      ],
      "metadata": {
        "colab": {
          "base_uri": "https://localhost:8080/"
        },
        "id": "jStomyM3Z6Ha",
        "outputId": "5ec4fedf-2ea6-4c67-89bc-91916be4c418"
      },
      "execution_count": null,
      "outputs": [
        {
          "output_type": "execute_result",
          "data": {
            "text/plain": [
              "[('HP', 'SHIMLA'),\n",
              " ('UP', 'LK'),\n",
              " ('MP', 'GUR'),\n",
              " ('TN', 'CHENNAI'),\n",
              " ('RJ', 'JAIPUR')]"
            ]
          },
          "metadata": {},
          "execution_count": 56
        }
      ]
    },
    {
      "cell_type": "code",
      "source": [
        "my_tuple = (6,7,8,5,6,4,8)\n",
        "my_tuple.count(6)"
      ],
      "metadata": {
        "id": "lTl7YUkLYDHv",
        "colab": {
          "base_uri": "https://localhost:8080/"
        },
        "outputId": "9841503a-2511-4315-824e-80b06bc58ebc"
      },
      "execution_count": null,
      "outputs": [
        {
          "output_type": "execute_result",
          "data": {
            "text/plain": [
              "2"
            ]
          },
          "metadata": {},
          "execution_count": 59
        }
      ]
    },
    {
      "cell_type": "code",
      "source": [
        "my_tuple.index(6) #find the index of first accurance"
      ],
      "metadata": {
        "colab": {
          "base_uri": "https://localhost:8080/"
        },
        "id": "PlJo1fsYc2xF",
        "outputId": "63194c0d-d56c-414a-a7a8-ed76395cf06c"
      },
      "execution_count": null,
      "outputs": [
        {
          "output_type": "execute_result",
          "data": {
            "text/plain": [
              "0"
            ]
          },
          "metadata": {},
          "execution_count": 60
        }
      ]
    },
    {
      "cell_type": "code",
      "source": [
        "#set -- collection of unique number of item\n",
        "x = \"  \"\n",
        "type(x)"
      ],
      "metadata": {
        "colab": {
          "base_uri": "https://localhost:8080/"
        },
        "id": "9eKoitBTc3Eb",
        "outputId": "4a9aabbe-bd01-4359-b7ac-0b718ae54cb3"
      },
      "execution_count": null,
      "outputs": [
        {
          "output_type": "execute_result",
          "data": {
            "text/plain": [
              "str"
            ]
          },
          "metadata": {},
          "execution_count": 61
        }
      ]
    },
    {
      "cell_type": "code",
      "source": [
        "y = []\n",
        "type(y)"
      ],
      "metadata": {
        "colab": {
          "base_uri": "https://localhost:8080/"
        },
        "id": "zOASw3RGc3HC",
        "outputId": "c01fec56-cf04-428e-901e-495d15d4ca85"
      },
      "execution_count": null,
      "outputs": [
        {
          "output_type": "execute_result",
          "data": {
            "text/plain": [
              "list"
            ]
          },
          "metadata": {},
          "execution_count": 63
        }
      ]
    },
    {
      "cell_type": "code",
      "source": [
        "z = ()\n",
        "type (z)"
      ],
      "metadata": {
        "colab": {
          "base_uri": "https://localhost:8080/"
        },
        "id": "ffnj7NZ3c3KX",
        "outputId": "c1a1f00f-d6c8-48f2-e967-d46ac5b09a7e"
      },
      "execution_count": null,
      "outputs": [
        {
          "output_type": "execute_result",
          "data": {
            "text/plain": [
              "tuple"
            ]
          },
          "metadata": {},
          "execution_count": 62
        }
      ]
    },
    {
      "cell_type": "code",
      "source": [
        "my_set = {3,6,7,9,8}\n",
        "type(my_set)"
      ],
      "metadata": {
        "colab": {
          "base_uri": "https://localhost:8080/"
        },
        "id": "HgWBHHXvc3Uj",
        "outputId": "24addd6d-5e36-4d21-df9a-f3c3395828b2"
      },
      "execution_count": null,
      "outputs": [
        {
          "output_type": "execute_result",
          "data": {
            "text/plain": [
              "set"
            ]
          },
          "metadata": {},
          "execution_count": 64
        }
      ]
    },
    {
      "cell_type": "code",
      "source": [
        "a = {}\n",
        "type(a)"
      ],
      "metadata": {
        "colab": {
          "base_uri": "https://localhost:8080/"
        },
        "id": "nHl7oFe4dmjL",
        "outputId": "ddb41294-182c-4f34-91e5-2847f8b33c54"
      },
      "execution_count": null,
      "outputs": [
        {
          "output_type": "execute_result",
          "data": {
            "text/plain": [
              "dict"
            ]
          },
          "metadata": {},
          "execution_count": 67
        }
      ]
    },
    {
      "cell_type": "code",
      "source": [
        "empty_set = set()\n",
        "type(empty_set)"
      ],
      "metadata": {
        "colab": {
          "base_uri": "https://localhost:8080/"
        },
        "id": "0dx19pAxdmlq",
        "outputId": "34368656-8758-4ec8-ef6b-e80e088d3c9b"
      },
      "execution_count": null,
      "outputs": [
        {
          "output_type": "execute_result",
          "data": {
            "text/plain": [
              "set"
            ]
          },
          "metadata": {},
          "execution_count": 66
        }
      ]
    },
    {
      "cell_type": "code",
      "source": [
        "my_set = {4,8,9,6,3,2}\n",
        "print(my_set)"
      ],
      "metadata": {
        "colab": {
          "base_uri": "https://localhost:8080/"
        },
        "id": "aSlhge3odmo8",
        "outputId": "a1857866-dc15-42cc-9b30-2d0b41266c19"
      },
      "execution_count": null,
      "outputs": [
        {
          "output_type": "stream",
          "name": "stdout",
          "text": [
            "{2, 3, 4, 6, 8, 9}\n"
          ]
        }
      ]
    },
    {
      "cell_type": "code",
      "source": [],
      "metadata": {
        "id": "rEDCz80cfDZJ"
      },
      "execution_count": null,
      "outputs": []
    },
    {
      "cell_type": "code",
      "source": [
        "a = set()\n",
        "a.add(10)\n",
        "a.add(20)\n",
        "a.add(30)\n",
        "a"
      ],
      "metadata": {
        "colab": {
          "base_uri": "https://localhost:8080/"
        },
        "id": "fRBTlWe3fDlL",
        "outputId": "7c1a4e72-857a-4183-a963-1c7e6701e3a5"
      },
      "execution_count": null,
      "outputs": [
        {
          "output_type": "execute_result",
          "data": {
            "text/plain": [
              "{10, 20, 30}"
            ]
          },
          "metadata": {},
          "execution_count": 72
        }
      ]
    },
    {
      "cell_type": "code",
      "source": [
        "my_set = {34,67,89}\n",
        "my_set.update([10,67,89])\n",
        "print(my_set)"
      ],
      "metadata": {
        "id": "vsDoZsndfDnv",
        "colab": {
          "base_uri": "https://localhost:8080/"
        },
        "outputId": "c471181b-7263-490b-b958-5ad49809f464"
      },
      "execution_count": null,
      "outputs": [
        {
          "output_type": "stream",
          "name": "stdout",
          "text": [
            "{10, 89, 34, 67}\n"
          ]
        }
      ]
    },
    {
      "cell_type": "code",
      "source": [
        "my_set.remove(34)\n",
        "my_set"
      ],
      "metadata": {
        "id": "-pGoLo9QfDu7",
        "colab": {
          "base_uri": "https://localhost:8080/"
        },
        "outputId": "6c465141-4996-417b-8fa3-e2772e96cc65"
      },
      "execution_count": null,
      "outputs": [
        {
          "output_type": "execute_result",
          "data": {
            "text/plain": [
              "{10, 67, 89}"
            ]
          },
          "metadata": {},
          "execution_count": 3
        }
      ]
    },
    {
      "cell_type": "code",
      "source": [
        "#union--\n",
        "A = {1,2,3,4,5}\n",
        "B = {4,5,6,7,8}\n",
        "A.union(B)"
      ],
      "metadata": {
        "id": "SvoudAcpfDz4",
        "colab": {
          "base_uri": "https://localhost:8080/"
        },
        "outputId": "947236b5-1496-4413-99a5-7557cc58ec4f"
      },
      "execution_count": null,
      "outputs": [
        {
          "output_type": "execute_result",
          "data": {
            "text/plain": [
              "{1, 2, 3, 4, 5, 6, 7, 8}"
            ]
          },
          "metadata": {},
          "execution_count": 4
        }
      ]
    },
    {
      "cell_type": "code",
      "source": [
        "#INTERSECTION\n",
        "A.intersection(B)"
      ],
      "metadata": {
        "id": "Lj2q92eEfD2Z",
        "colab": {
          "base_uri": "https://localhost:8080/"
        },
        "outputId": "ae0fcff2-1a91-4089-aee6-6255b761ea5d"
      },
      "execution_count": null,
      "outputs": [
        {
          "output_type": "execute_result",
          "data": {
            "text/plain": [
              "{4, 5}"
            ]
          },
          "metadata": {},
          "execution_count": 5
        }
      ]
    },
    {
      "cell_type": "code",
      "source": [
        "A.difference(B)"
      ],
      "metadata": {
        "id": "zSEWH7WffD5v",
        "colab": {
          "base_uri": "https://localhost:8080/"
        },
        "outputId": "9ab8c5df-9a8a-4c1c-bf11-01ea1dba80d1"
      },
      "execution_count": null,
      "outputs": [
        {
          "output_type": "execute_result",
          "data": {
            "text/plain": [
              "{1, 2, 3}"
            ]
          },
          "metadata": {},
          "execution_count": 6
        }
      ]
    },
    {
      "cell_type": "code",
      "source": [
        "A-B"
      ],
      "metadata": {
        "colab": {
          "base_uri": "https://localhost:8080/"
        },
        "id": "epTZ-veJFD76",
        "outputId": "18c7ace3-ea4d-4550-8651-bed27c2e53e7"
      },
      "execution_count": null,
      "outputs": [
        {
          "output_type": "execute_result",
          "data": {
            "text/plain": [
              "{1, 2, 3}"
            ]
          },
          "metadata": {},
          "execution_count": 7
        }
      ]
    },
    {
      "cell_type": "code",
      "source": [
        "B-A"
      ],
      "metadata": {
        "colab": {
          "base_uri": "https://localhost:8080/"
        },
        "id": "g7GAdsbEFEIi",
        "outputId": "10bc4579-f061-411b-a372-645ff2464427"
      },
      "execution_count": null,
      "outputs": [
        {
          "output_type": "execute_result",
          "data": {
            "text/plain": [
              "{6, 7, 8}"
            ]
          },
          "metadata": {},
          "execution_count": 8
        }
      ]
    },
    {
      "cell_type": "code",
      "source": [
        "A.symmetric_difference(B)"
      ],
      "metadata": {
        "colab": {
          "base_uri": "https://localhost:8080/"
        },
        "id": "6cj4ExfGFKnU",
        "outputId": "c564fdad-5687-4ddf-bb51-d24c0efb13be"
      },
      "execution_count": null,
      "outputs": [
        {
          "output_type": "execute_result",
          "data": {
            "text/plain": [
              "{1, 2, 3, 6, 7, 8}"
            ]
          },
          "metadata": {},
          "execution_count": 9
        }
      ]
    },
    {
      "cell_type": "code",
      "source": [
        "my_dict ={\"HP\": \"SHM\", \"UP\": \"LK\", \"MP\": \"GUR\", \"TN\": \"CHENNAI\", \"RJ\": \"JAIPUR\"}\n",
        "type(my_dict)"
      ],
      "metadata": {
        "colab": {
          "base_uri": "https://localhost:8080/"
        },
        "id": "1C-mkSvkFKqs",
        "outputId": "e74cf8e3-2ee4-4434-ee05-f50be02f03c3"
      },
      "execution_count": null,
      "outputs": [
        {
          "output_type": "execute_result",
          "data": {
            "text/plain": [
              "dict"
            ]
          },
          "metadata": {},
          "execution_count": 11
        }
      ]
    },
    {
      "cell_type": "code",
      "source": [
        "my_dict[\"HP\"]"
      ],
      "metadata": {
        "colab": {
          "base_uri": "https://localhost:8080/",
          "height": 35
        },
        "id": "LBT_hKs7GyCY",
        "outputId": "7073501d-53a2-45fd-a549-1a095bf68932"
      },
      "execution_count": null,
      "outputs": [
        {
          "output_type": "execute_result",
          "data": {
            "text/plain": [
              "'SHM'"
            ],
            "application/vnd.google.colaboratory.intrinsic+json": {
              "type": "string"
            }
          },
          "metadata": {},
          "execution_count": 12
        }
      ]
    },
    {
      "cell_type": "code",
      "source": [
        "#keys-- This method,return the keys of dictionary  { ALWAYS IMMUTABLE}\n",
        "list(my_dict.keys())"
      ],
      "metadata": {
        "colab": {
          "base_uri": "https://localhost:8080/"
        },
        "id": "n64gAGbCGytU",
        "outputId": "41c6ccf4-39da-4719-a897-ec1d00c38428"
      },
      "execution_count": null,
      "outputs": [
        {
          "output_type": "execute_result",
          "data": {
            "text/plain": [
              "['HP', 'UP', 'MP', 'TN', 'RJ']"
            ]
          },
          "metadata": {},
          "execution_count": 14
        }
      ]
    },
    {
      "cell_type": "code",
      "source": [
        "#values-- This method return values of your dictionary {IMMUTABLE OR MUTABLE BOTH}\n",
        "list(my_dict.values())"
      ],
      "metadata": {
        "colab": {
          "base_uri": "https://localhost:8080/"
        },
        "id": "8g3HV1UZGyv4",
        "outputId": "e719fce4-0b9a-4343-d631-348dc36f8d39"
      },
      "execution_count": null,
      "outputs": [
        {
          "output_type": "execute_result",
          "data": {
            "text/plain": [
              "['SHM', 'LK', 'GUR', 'CHENNAI', 'JAIPUR']"
            ]
          },
          "metadata": {},
          "execution_count": 15
        }
      ]
    },
    {
      "cell_type": "code",
      "source": [
        "#items-- This method return items of your dictionaty {ALWAYS MUTABLE}\n",
        "my_dict.items()"
      ],
      "metadata": {
        "colab": {
          "base_uri": "https://localhost:8080/"
        },
        "id": "fZhNsJvaGyyj",
        "outputId": "9b6f22c0-ff94-4440-cc73-aa3593f2cdc5"
      },
      "execution_count": null,
      "outputs": [
        {
          "output_type": "execute_result",
          "data": {
            "text/plain": [
              "dict_items([('HP', 'SHM'), ('UP', 'LK'), ('MP', 'GUR'), ('TN', 'CHENNAI'), ('RJ', 'JAIPUR')])"
            ]
          },
          "metadata": {},
          "execution_count": 16
        }
      ]
    },
    {
      "cell_type": "code",
      "source": [
        "my_dict = {\"Name\": \"Ravi\" , \"Marks List\" : [45,67,89]}\n",
        "type(my_dict)"
      ],
      "metadata": {
        "colab": {
          "base_uri": "https://localhost:8080/"
        },
        "id": "fPlZ4UBmGy1O",
        "outputId": "31459ed1-9a24-4549-e688-8860f9dec61f"
      },
      "execution_count": null,
      "outputs": [
        {
          "output_type": "execute_result",
          "data": {
            "text/plain": [
              "dict"
            ]
          },
          "metadata": {},
          "execution_count": 17
        }
      ]
    },
    {
      "cell_type": "code",
      "source": [
        "my_dict.update({\"College\": \"Shoolini\"})\n",
        "print(my_dict)"
      ],
      "metadata": {
        "colab": {
          "base_uri": "https://localhost:8080/"
        },
        "id": "5HimJHPGGy4p",
        "outputId": "ccd1a24f-6260-4ba4-9c35-02281f348236"
      },
      "execution_count": null,
      "outputs": [
        {
          "output_type": "stream",
          "name": "stdout",
          "text": [
            "{'Name': 'Ravi', 'Marks List': [45, 67, 89], 'College': 'Shoolini'}\n"
          ]
        }
      ]
    },
    {
      "cell_type": "code",
      "source": [
        "age = int(input(\"Enter your age: \")) # The input is converted into an integer.\n",
        "if age < 21:\n",
        "    print(\"You are too young for marriage\")\n",
        "elif age > 60:\n",
        "    print(\"You are too old for marriage\")\n",
        "else:\n",
        "    print(\"You are eligible for marriage .. AAJA SHADI KARLE !!\")"
      ],
      "metadata": {
        "colab": {
          "base_uri": "https://localhost:8080/"
        },
        "id": "oHUpxVfgJvJj",
        "outputId": "d29395dc-9599-4fea-c89a-223d49e5bf23"
      },
      "execution_count": null,
      "outputs": [
        {
          "output_type": "stream",
          "name": "stdout",
          "text": [
            "Enter your age: 67\n",
            "You are too old for marriage\n"
          ]
        }
      ]
    },
    {
      "cell_type": "code",
      "source": [
        "#for loop - this loop apply on sequence (string list,tuple and range)\n",
        "my_sub = \"Solan\"\n",
        "for i in my_sub:\n",
        "  print(i)"
      ],
      "metadata": {
        "id": "2YGtBrj2JvMK",
        "colab": {
          "base_uri": "https://localhost:8080/"
        },
        "outputId": "4c584dd7-5cad-4db7-fd8f-663e8a21c2c9"
      },
      "execution_count": null,
      "outputs": [
        {
          "output_type": "stream",
          "name": "stdout",
          "text": [
            "S\n",
            "o\n",
            "l\n",
            "a\n",
            "n\n"
          ]
        }
      ]
    },
    {
      "cell_type": "code",
      "source": [
        "for i in range(0,5,1):\n",
        "  print(i)"
      ],
      "metadata": {
        "id": "pTI85I3aJvO9",
        "colab": {
          "base_uri": "https://localhost:8080/"
        },
        "outputId": "44676be1-21ec-4c6d-e410-5ee530b1c117"
      },
      "execution_count": null,
      "outputs": [
        {
          "output_type": "stream",
          "name": "stdout",
          "text": [
            "0\n",
            "1\n",
            "2\n",
            "3\n",
            "4\n"
          ]
        }
      ]
    },
    {
      "cell_type": "code",
      "source": [
        "for i in range(5):\n",
        "  print(i)"
      ],
      "metadata": {
        "id": "qPc-EGvlJvRL",
        "colab": {
          "base_uri": "https://localhost:8080/"
        },
        "outputId": "8fa73bca-d3ac-4218-d812-e944ab92dd75"
      },
      "execution_count": null,
      "outputs": [
        {
          "output_type": "stream",
          "name": "stdout",
          "text": [
            "0\n",
            "1\n",
            "2\n",
            "3\n",
            "4\n"
          ]
        }
      ]
    },
    {
      "cell_type": "code",
      "source": [
        "#indexing\n",
        "my_sub = \"Machine Learning\"\n",
        "for i in range(len(my_sub)):\n",
        "  print(my_sub[i],i)"
      ],
      "metadata": {
        "id": "mkiYZvqlJvTZ",
        "colab": {
          "base_uri": "https://localhost:8080/"
        },
        "outputId": "46e409a8-309e-40b6-d7a1-9aa8a52885ca"
      },
      "execution_count": null,
      "outputs": [
        {
          "output_type": "stream",
          "name": "stdout",
          "text": [
            "M 0\n",
            "a 1\n",
            "c 2\n",
            "h 3\n",
            "i 4\n",
            "n 5\n",
            "e 6\n",
            "  7\n",
            "L 8\n",
            "e 9\n",
            "a 10\n",
            "r 11\n",
            "n 12\n",
            "i 13\n",
            "n 14\n",
            "g 15\n"
          ]
        }
      ]
    },
    {
      "cell_type": "code",
      "source": [
        "my_sub = \"Machine Learning\"\n",
        "for i in range(-1,-len(my_sub)-1,-1):\n",
        "  print(my_sub[i],i)"
      ],
      "metadata": {
        "id": "7qesuXHwJvWz",
        "colab": {
          "base_uri": "https://localhost:8080/"
        },
        "outputId": "bbde2714-6bd8-4d9b-d438-ef7eef2a0e00"
      },
      "execution_count": null,
      "outputs": [
        {
          "output_type": "stream",
          "name": "stdout",
          "text": [
            "g -1\n",
            "n -2\n",
            "i -3\n",
            "n -4\n",
            "r -5\n",
            "a -6\n",
            "e -7\n",
            "L -8\n",
            "  -9\n",
            "e -10\n",
            "n -11\n",
            "i -12\n",
            "h -13\n",
            "c -14\n",
            "a -15\n",
            "M -16\n"
          ]
        }
      ]
    },
    {
      "cell_type": "code",
      "source": [
        "#while loop--thid loop execute upto condition is true"
      ],
      "metadata": {
        "id": "bvYywgff93GN"
      },
      "execution_count": null,
      "outputs": []
    },
    {
      "cell_type": "code",
      "source": [
        "i = 0 #initialisation\n",
        "while i<5: #condition\n",
        "  print(i)\n",
        "  i+=1 #increment i = i+1\n",
        "  print(i)"
      ],
      "metadata": {
        "id": "VX0c12wr93Rr",
        "colab": {
          "base_uri": "https://localhost:8080/"
        },
        "outputId": "a47644bf-668c-42bd-abf9-4cb9f373267d"
      },
      "execution_count": null,
      "outputs": [
        {
          "output_type": "stream",
          "name": "stdout",
          "text": [
            "0\n",
            "1\n",
            "1\n",
            "2\n",
            "2\n",
            "3\n",
            "3\n",
            "4\n",
            "4\n",
            "5\n"
          ]
        }
      ]
    },
    {
      "cell_type": "code",
      "source": [
        "#loops control statement\n",
        "i = 0\n",
        "while i<5:\n",
        "  if i==3:\n",
        "    break #break the loop\n",
        "    print(i)\n",
        "  else:\n",
        "    print(i)\n",
        "  i+=1"
      ],
      "metadata": {
        "id": "UE9QEVy593UP",
        "colab": {
          "base_uri": "https://localhost:8080/"
        },
        "outputId": "e49b2557-a20d-4575-a95d-a19ab253fa03"
      },
      "execution_count": null,
      "outputs": [
        {
          "output_type": "stream",
          "name": "stdout",
          "text": [
            "0\n",
            "1\n",
            "2\n"
          ]
        }
      ]
    },
    {
      "cell_type": "code",
      "source": [
        "i = 0\n",
        "while i<5:\n",
        "  i+=1\n",
        "  if i==3:\n",
        "    continue #continue the loop\n",
        "    print(i)\n",
        "  else:\n",
        "    print(i)"
      ],
      "metadata": {
        "id": "0E0tWHRg93Wc",
        "colab": {
          "base_uri": "https://localhost:8080/"
        },
        "outputId": "228f0f98-7933-482d-d159-9a1faad20294"
      },
      "execution_count": null,
      "outputs": [
        {
          "output_type": "stream",
          "name": "stdout",
          "text": [
            "1\n",
            "2\n",
            "4\n",
            "5\n"
          ]
        }
      ]
    },
    {
      "cell_type": "code",
      "source": [
        "i = 0\n",
        "while i<5:\n",
        "  i+=1\n",
        "  if i==3:\n",
        "    pass #skip the current iteration\n",
        "    print(i)\n",
        "  else:\n",
        "    print(i)"
      ],
      "metadata": {
        "id": "fJRbevCB93Yv",
        "colab": {
          "base_uri": "https://localhost:8080/"
        },
        "outputId": "63e167d5-5d4f-43e4-b1a0-23460fb22360"
      },
      "execution_count": null,
      "outputs": [
        {
          "output_type": "stream",
          "name": "stdout",
          "text": [
            "1\n",
            "2\n",
            "3\n",
            "4\n",
            "5\n"
          ]
        }
      ]
    },
    {
      "cell_type": "code",
      "source": [
        "#user defined function\n",
        "def add():\n",
        "  a = int(input(\"Enter first number: \"))\n",
        "  b = int(input(\"Enter second number: \"))\n",
        "  c = a+b\n",
        "  return c"
      ],
      "metadata": {
        "id": "V12T62HpZnIn"
      },
      "execution_count": null,
      "outputs": []
    },
    {
      "cell_type": "code",
      "source": [
        "print(add())"
      ],
      "metadata": {
        "id": "fDTu8cdqaNqD"
      },
      "execution_count": null,
      "outputs": []
    },
    {
      "cell_type": "code",
      "source": [
        "#positional argument\n",
        "def add(a,b):\n",
        "  c = a+b\n",
        "  return c"
      ],
      "metadata": {
        "id": "2XAsbqBIZoBq"
      },
      "execution_count": null,
      "outputs": []
    },
    {
      "cell_type": "code",
      "source": [
        "print(add(10,20))"
      ],
      "metadata": {
        "id": "J5KpejJJZoWY",
        "colab": {
          "base_uri": "https://localhost:8080/"
        },
        "outputId": "b91e4101-98e8-45a6-a0e8-ebd110a5d059"
      },
      "execution_count": null,
      "outputs": [
        {
          "output_type": "stream",
          "name": "stdout",
          "text": [
            "30\n"
          ]
        }
      ]
    },
    {
      "cell_type": "code",
      "source": [
        "#default argument\n",
        "def add(a,b=10):\n",
        "  c = a+b\n",
        "  return c"
      ],
      "metadata": {
        "id": "qh5yXv4XZoZx"
      },
      "execution_count": null,
      "outputs": []
    },
    {
      "cell_type": "code",
      "source": [
        "print(add(50))"
      ],
      "metadata": {
        "colab": {
          "base_uri": "https://localhost:8080/"
        },
        "id": "nbX5gb_eR4lj",
        "outputId": "5a4c0a17-aead-4ce2-f756-a11ce46967c1"
      },
      "execution_count": null,
      "outputs": [
        {
          "output_type": "stream",
          "name": "stdout",
          "text": [
            "60\n"
          ]
        }
      ]
    },
    {
      "cell_type": "code",
      "source": [
        "#keyword argument\n",
        "def interest(p,r,t):\n",
        "  i = (p*r*t)/100\n",
        "  return i"
      ],
      "metadata": {
        "id": "FURFYnALSFJA"
      },
      "execution_count": null,
      "outputs": []
    },
    {
      "cell_type": "code",
      "source": [
        "print(interest(p=100,r=10,t=2))"
      ],
      "metadata": {
        "colab": {
          "base_uri": "https://localhost:8080/"
        },
        "id": "4Yx5hIfCSFVO",
        "outputId": "ac948737-c781-488d-80f1-dce9e223bf05"
      },
      "execution_count": null,
      "outputs": [
        {
          "output_type": "stream",
          "name": "stdout",
          "text": [
            "20.0\n"
          ]
        }
      ]
    },
    {
      "cell_type": "code",
      "source": [
        "#mixed arguments (positional , keyword)"
      ],
      "metadata": {
        "id": "eu0mrwDxTEC-"
      },
      "execution_count": null,
      "outputs": []
    },
    {
      "cell_type": "code",
      "source": [
        "interest = (p,r,t)"
      ],
      "metadata": {
        "id": "22ObkZWDTEWM"
      },
      "execution_count": null,
      "outputs": []
    },
    {
      "cell_type": "code",
      "source": [
        "#variable length argument\n",
        "#non-keyword variable length arguments\n",
        "def test(*args):\n",
        "  print(args)\n",
        "  print(len(args))\n",
        "  print(type(args))"
      ],
      "metadata": {
        "id": "9t7HU6JqTEmJ"
      },
      "execution_count": null,
      "outputs": []
    },
    {
      "cell_type": "code",
      "source": [
        "test(10,20,30)"
      ],
      "metadata": {
        "colab": {
          "base_uri": "https://localhost:8080/"
        },
        "id": "IANlfiR8TEv4",
        "outputId": "0a397fcc-f59b-4a0a-c809-166ecf6ef464"
      },
      "execution_count": null,
      "outputs": [
        {
          "output_type": "stream",
          "name": "stdout",
          "text": [
            "(10, 20, 30)\n",
            "3\n",
            "<class 'tuple'>\n"
          ]
        }
      ]
    },
    {
      "cell_type": "code",
      "source": [
        "def addition(*args):\n",
        "  sum = 0\n",
        "  for i in args:\n",
        "    sum+=i\n",
        "  return sum"
      ],
      "metadata": {
        "id": "-mS-DGgmTE16"
      },
      "execution_count": null,
      "outputs": []
    },
    {
      "cell_type": "code",
      "source": [
        "addition(3,4,5,7,12)"
      ],
      "metadata": {
        "colab": {
          "base_uri": "https://localhost:8080/"
        },
        "id": "9CfqqvkuWqD0",
        "outputId": "79237a80-cefb-4b7a-e1a9-f2d0597965a9"
      },
      "execution_count": null,
      "outputs": [
        {
          "output_type": "execute_result",
          "data": {
            "text/plain": [
              "31"
            ]
          },
          "metadata": {},
          "execution_count": 10
        }
      ]
    },
    {
      "cell_type": "code",
      "source": [
        "#keyword variable length arguments\n",
        "def test(**kwargs):\n",
        "  print(kwargs)\n",
        "  print(len(kwargs))\n",
        "  print(type(kwargs))"
      ],
      "metadata": {
        "id": "DMueE1sVW5CL"
      },
      "execution_count": null,
      "outputs": []
    },
    {
      "cell_type": "code",
      "source": [
        "test(a=10,b=20,c=30)"
      ],
      "metadata": {
        "colab": {
          "base_uri": "https://localhost:8080/"
        },
        "id": "E2hXHRamXOKk",
        "outputId": "d8aa1b14-8384-443b-b825-4a10c627b1f5"
      },
      "execution_count": null,
      "outputs": [
        {
          "output_type": "stream",
          "name": "stdout",
          "text": [
            "{'a': 10, 'b': 20, 'c': 30}\n",
            "3\n",
            "<class 'dict'>\n"
          ]
        }
      ]
    },
    {
      "cell_type": "code",
      "source": [
        "def pass_student(**kwargs):\n",
        "  pass_student_list = []\n",
        "  for key,value in kwargs.items():\n",
        "    if value>40:\n",
        "      pass_student_list.append(key)\n",
        "  return pass_student_list"
      ],
      "metadata": {
        "id": "AxQ90KwbYehG"
      },
      "execution_count": null,
      "outputs": []
    },
    {
      "cell_type": "code",
      "source": [
        "pass_student(A=60 , B=30 , C=40 , D=50)"
      ],
      "metadata": {
        "colab": {
          "base_uri": "https://localhost:8080/"
        },
        "id": "VtHq4Wy-Y3od",
        "outputId": "6b8f2e74-a5ad-4a01-f937-96562b34b9be"
      },
      "execution_count": null,
      "outputs": [
        {
          "output_type": "execute_result",
          "data": {
            "text/plain": [
              "['A', 'D']"
            ]
          },
          "metadata": {},
          "execution_count": 21
        }
      ]
    },
    {
      "cell_type": "code",
      "source": [
        "import numpy as np"
      ],
      "metadata": {
        "id": "6KkDLZmvSEFn"
      },
      "execution_count": null,
      "outputs": []
    },
    {
      "cell_type": "code",
      "source": [
        "oned_array = np.array([3,4,5,6])\n",
        "print(oned_array)"
      ],
      "metadata": {
        "colab": {
          "base_uri": "https://localhost:8080/"
        },
        "id": "tRarg6erSESe",
        "outputId": "bbee67f1-3964-40e9-8119-38b819171df6"
      },
      "execution_count": null,
      "outputs": [
        {
          "output_type": "stream",
          "name": "stdout",
          "text": [
            "[3 4 5 6]\n"
          ]
        }
      ]
    },
    {
      "cell_type": "code",
      "source": [
        "twod_array = np.array([[1,2,3,4],[5,6,7,8]])\n",
        "print(twod_array)"
      ],
      "metadata": {
        "colab": {
          "base_uri": "https://localhost:8080/"
        },
        "id": "lr4NK86STSOH",
        "outputId": "b59a1f0a-404a-4896-f886-aa55f5c840a0"
      },
      "execution_count": null,
      "outputs": [
        {
          "output_type": "stream",
          "name": "stdout",
          "text": [
            "[[1 2 3 4]\n",
            " [5 6 7 8]]\n"
          ]
        }
      ]
    },
    {
      "cell_type": "code",
      "source": [
        "threed_array = np.array([[[1,2,3,4],[5,6,7,8]],[[1,2,3,4],[5,6,7,8]]])\n",
        "print(threed_array)"
      ],
      "metadata": {
        "colab": {
          "base_uri": "https://localhost:8080/"
        },
        "id": "215KSTeUSEVV",
        "outputId": "dd98a286-0a17-4493-8157-982e02729e42"
      },
      "execution_count": null,
      "outputs": [
        {
          "output_type": "stream",
          "name": "stdout",
          "text": [
            "[[[1 2 3 4]\n",
            "  [5 6 7 8]]\n",
            "\n",
            " [[1 2 3 4]\n",
            "  [5 6 7 8]]]\n"
          ]
        }
      ]
    },
    {
      "cell_type": "code",
      "source": [
        "#array inspection\n",
        "#shape -- find the shape of array\n",
        "oned_array = np.array([3,4,5,6])\n",
        "print(oned_array.shape)\n",
        "oned_array.shape"
      ],
      "metadata": {
        "colab": {
          "base_uri": "https://localhost:8080/"
        },
        "id": "GNjJ73xrSEaB",
        "outputId": "e6ca2d95-cc12-4fb4-c88a-44bfb022d28e"
      },
      "execution_count": null,
      "outputs": [
        {
          "output_type": "stream",
          "name": "stdout",
          "text": [
            "(4,)\n"
          ]
        },
        {
          "output_type": "execute_result",
          "data": {
            "text/plain": [
              "(4,)"
            ]
          },
          "metadata": {},
          "execution_count": 18
        }
      ]
    },
    {
      "cell_type": "code",
      "source": [
        "twod_array = np.array([[1,2,3,4],[5,6,7,8]])\n",
        "print(twod_array.shape)"
      ],
      "metadata": {
        "colab": {
          "base_uri": "https://localhost:8080/"
        },
        "id": "Ll3hXpj4SEdm",
        "outputId": "e5893e72-1d7b-45e5-9671-2d913749b211"
      },
      "execution_count": null,
      "outputs": [
        {
          "output_type": "stream",
          "name": "stdout",
          "text": [
            "(2, 4)\n"
          ]
        },
        {
          "output_type": "execute_result",
          "data": {
            "text/plain": [
              "(2, 4)"
            ]
          },
          "metadata": {},
          "execution_count": 19
        }
      ]
    },
    {
      "cell_type": "code",
      "source": [
        "threed_array = np.array([[[1,2,3,4],[5,6,7,8]],[[1,2,3,4],[5,6,7,8]]])\n",
        "print(threed_array.shape)"
      ],
      "metadata": {
        "colab": {
          "base_uri": "https://localhost:8080/"
        },
        "id": "N3L8Zn9bWt63",
        "outputId": "533bb9cc-1967-42f5-8891-65656fb917c9"
      },
      "execution_count": null,
      "outputs": [
        {
          "output_type": "stream",
          "name": "stdout",
          "text": [
            "(2, 2, 4)\n"
          ]
        }
      ]
    },
    {
      "cell_type": "code",
      "source": [
        "#ndim-- find the dimension of array\n",
        "twod_array = np.array([[1,2,3,4],\n",
        "                       [5,6,7,8]])\n",
        "print(twod_array.ndim)\n",
        "twod_array.ndim"
      ],
      "metadata": {
        "colab": {
          "base_uri": "https://localhost:8080/"
        },
        "id": "XXshhXidWuXJ",
        "outputId": "f22ab00a-89b4-4fec-c81f-8f83267db727"
      },
      "execution_count": null,
      "outputs": [
        {
          "output_type": "stream",
          "name": "stdout",
          "text": [
            "2\n"
          ]
        },
        {
          "output_type": "execute_result",
          "data": {
            "text/plain": [
              "2"
            ]
          },
          "metadata": {},
          "execution_count": 23
        }
      ]
    },
    {
      "cell_type": "code",
      "source": [
        "#dtype -- find the data type\n",
        "twod_array.dtype"
      ],
      "metadata": {
        "colab": {
          "base_uri": "https://localhost:8080/"
        },
        "id": "-Z9PYs_qXVm2",
        "outputId": "904698da-a17a-4c85-c618-011bc5989207"
      },
      "execution_count": null,
      "outputs": [
        {
          "output_type": "execute_result",
          "data": {
            "text/plain": [
              "dtype('int64')"
            ]
          },
          "metadata": {},
          "execution_count": 24
        }
      ]
    },
    {
      "cell_type": "code",
      "source": [
        "#size -- total number of item in array\n",
        "twod_array = np.array([[1,2,3,4],\n",
        "                       [5,6,7,8]])\n",
        "print(twod_array.size)\n",
        "twod_array.size"
      ],
      "metadata": {
        "colab": {
          "base_uri": "https://localhost:8080/"
        },
        "id": "YxNPWgeMXnpr",
        "outputId": "5c6c10c7-0445-475f-c458-592ffdf17aad"
      },
      "execution_count": null,
      "outputs": [
        {
          "output_type": "stream",
          "name": "stdout",
          "text": [
            "8\n"
          ]
        },
        {
          "output_type": "execute_result",
          "data": {
            "text/plain": [
              "8"
            ]
          },
          "metadata": {},
          "execution_count": 26
        }
      ]
    },
    {
      "cell_type": "code",
      "source": [
        "import numpy as np\n",
        "twod_array = np.array([[1,2,3,4],\n",
        "                       [5,6,7,8]])\n",
        "print(twod_array)\n",
        "twod_array.astype(float)"
      ],
      "metadata": {
        "colab": {
          "base_uri": "https://localhost:8080/"
        },
        "id": "3D3erwF3YVUn",
        "outputId": "40faab48-064a-47de-9e01-d766dad73615"
      },
      "execution_count": null,
      "outputs": [
        {
          "output_type": "stream",
          "name": "stdout",
          "text": [
            "[[1 2 3 4]\n",
            " [5 6 7 8]]\n"
          ]
        },
        {
          "output_type": "execute_result",
          "data": {
            "text/plain": [
              "array([[1., 2., 3., 4.],\n",
              "       [5., 6., 7., 8.]])"
            ]
          },
          "metadata": {},
          "execution_count": 4
        }
      ]
    },
    {
      "cell_type": "markdown",
      "source": [],
      "metadata": {
        "id": "WY9Jgb8DYVr0"
      }
    },
    {
      "cell_type": "code",
      "source": [
        "#zeroes array\n",
        "zeroes_array = np.zeros((3,4) , dtype = int)\n",
        "print(zeroes_array)"
      ],
      "metadata": {
        "colab": {
          "base_uri": "https://localhost:8080/"
        },
        "id": "Nrbt-ni0YWrY",
        "outputId": "997bb539-fe75-4d95-a522-54766b0e9144"
      },
      "execution_count": null,
      "outputs": [
        {
          "output_type": "stream",
          "name": "stdout",
          "text": [
            "[[0 0 0 0]\n",
            " [0 0 0 0]\n",
            " [0 0 0 0]]\n"
          ]
        }
      ]
    },
    {
      "cell_type": "code",
      "source": [
        "ones_array = np.ones((3,4) , dtype = int)\n",
        "print(ones_array)"
      ],
      "metadata": {
        "colab": {
          "base_uri": "https://localhost:8080/"
        },
        "id": "_A6t8H4IYW1f",
        "outputId": "6e4b9bdd-4417-4d7e-d8e9-83899e054cae"
      },
      "execution_count": null,
      "outputs": [
        {
          "output_type": "stream",
          "name": "stdout",
          "text": [
            "[[1 1 1 1]\n",
            " [1 1 1 1]\n",
            " [1 1 1 1]]\n"
          ]
        }
      ]
    },
    {
      "cell_type": "code",
      "source": [
        "print(ones_array*99)"
      ],
      "metadata": {
        "colab": {
          "base_uri": "https://localhost:8080/"
        },
        "id": "F8iXmQ7WYW_F",
        "outputId": "a1933ea3-8101-4b65-cdb8-d00344fe8b6a"
      },
      "execution_count": null,
      "outputs": [
        {
          "output_type": "stream",
          "name": "stdout",
          "text": [
            "[[99 99 99 99]\n",
            " [99 99 99 99]\n",
            " [99 99 99 99]]\n"
          ]
        }
      ]
    },
    {
      "cell_type": "code",
      "source": [
        "my_array = np.full((3,4) , 100)\n",
        "print(my_array)"
      ],
      "metadata": {
        "colab": {
          "base_uri": "https://localhost:8080/"
        },
        "id": "TYoO7ErZYXMb",
        "outputId": "891446c6-f963-42c2-c01d-b117f39a10fa"
      },
      "execution_count": null,
      "outputs": [
        {
          "output_type": "stream",
          "name": "stdout",
          "text": [
            "[[100 100 100 100]\n",
            " [100 100 100 100]\n",
            " [100 100 100 100]]\n"
          ]
        }
      ]
    },
    {
      "cell_type": "code",
      "source": [
        "random_array = np.random.random((3,4))\n",
        "print(random_array)"
      ],
      "metadata": {
        "colab": {
          "base_uri": "https://localhost:8080/"
        },
        "id": "okhXiTQzYXYD",
        "outputId": "bb4f8b68-6f72-4058-8115-fe5ccfcb61b5"
      },
      "execution_count": null,
      "outputs": [
        {
          "output_type": "stream",
          "name": "stdout",
          "text": [
            "[[0.46460572 0.72551438 0.33311983 0.72207911]\n",
            " [0.45080433 0.06803131 0.76426798 0.26303649]\n",
            " [0.95537784 0.52956877 0.8746112  0.08527669]]\n"
          ]
        }
      ]
    },
    {
      "cell_type": "code",
      "source": [
        "random_intarray = np.random.randint(2,10,(3,4))\n",
        "print(random_intarray)"
      ],
      "metadata": {
        "colab": {
          "base_uri": "https://localhost:8080/"
        },
        "id": "_kNv06PGYXhk",
        "outputId": "39d03f4b-94d3-4f3e-c5e9-b13e3ba3b22b"
      },
      "execution_count": null,
      "outputs": [
        {
          "output_type": "stream",
          "name": "stdout",
          "text": [
            "[[3 9 3 7]\n",
            " [6 3 2 8]\n",
            " [8 9 7 7]]\n"
          ]
        }
      ]
    },
    {
      "cell_type": "code",
      "source": [
        "arrange_array = np.arange(2,20,2,dtype = float)\n",
        "print(arrange_array)"
      ],
      "metadata": {
        "colab": {
          "base_uri": "https://localhost:8080/"
        },
        "id": "wD7Unj9fc2MC",
        "outputId": "75986d1d-ae7f-4988-d69b-1aaed569cc06"
      },
      "execution_count": null,
      "outputs": [
        {
          "output_type": "stream",
          "name": "stdout",
          "text": [
            "[ 2.  4.  6.  8. 10. 12. 14. 16. 18.]\n"
          ]
        }
      ]
    },
    {
      "cell_type": "code",
      "source": [
        "arrange_array = np.arange(2,20,2)\n",
        "print(arrange_array)"
      ],
      "metadata": {
        "colab": {
          "base_uri": "https://localhost:8080/"
        },
        "id": "4w7957qjc2qI",
        "outputId": "04b09425-fc2b-4442-f92d-a614020ab394"
      },
      "execution_count": null,
      "outputs": [
        {
          "output_type": "stream",
          "name": "stdout",
          "text": [
            "[ 2  4  6  8 10 12 14 16 18]\n"
          ]
        }
      ]
    },
    {
      "cell_type": "code",
      "source": [
        "a = np.random.randint(1,6,(2,2))\n",
        "print(a)\n",
        "b = np.random.randint(1,6,(2,2))\n",
        "print(b)\n",
        "print(a+b)"
      ],
      "metadata": {
        "colab": {
          "base_uri": "https://localhost:8080/"
        },
        "id": "edtw_Uyhd7Ar",
        "outputId": "e86ffa5f-c24b-4b80-d613-2cad7e8033f8"
      },
      "execution_count": null,
      "outputs": [
        {
          "output_type": "stream",
          "name": "stdout",
          "text": [
            "[[3 1]\n",
            " [3 5]]\n",
            "[[3 4]\n",
            " [3 4]]\n",
            "[[6 5]\n",
            " [6 9]]\n"
          ]
        }
      ]
    },
    {
      "cell_type": "code",
      "source": [
        "# (3,4) and (1,1)\n",
        "a = np.random.randint(1,6,(3,4))\n",
        "print(a)\n",
        "b = np.random.randint(1,6,(1,1))\n",
        "print(b)\n",
        "print(a+b)"
      ],
      "metadata": {
        "colab": {
          "base_uri": "https://localhost:8080/"
        },
        "id": "NewTaa6Rd7L-",
        "outputId": "ef7b44e8-83fe-490d-b22a-686685d78554"
      },
      "execution_count": null,
      "outputs": [
        {
          "output_type": "stream",
          "name": "stdout",
          "text": [
            "[[5 3 1 5]\n",
            " [1 2 1 5]\n",
            " [4 2 2 1]]\n",
            "[[2]]\n",
            "[[7 5 3 7]\n",
            " [3 4 3 7]\n",
            " [6 4 4 3]]\n"
          ]
        }
      ]
    },
    {
      "cell_type": "code",
      "source": [
        "# (1,4) and (4,1)\n",
        "# (1,5) and (5,1)\n",
        "a = np.random.randint(1,6,(1,4))\n",
        "print(a)\n",
        "b = np.random.randint(1,6,(4,1))\n",
        "print(b)\n",
        "print(a+b)"
      ],
      "metadata": {
        "colab": {
          "base_uri": "https://localhost:8080/"
        },
        "id": "BMyynPFkd7VY",
        "outputId": "54f129a8-09eb-4c46-d7fe-5f9b49c0bf52"
      },
      "execution_count": null,
      "outputs": [
        {
          "output_type": "stream",
          "name": "stdout",
          "text": [
            "[[3 5 5 5]]\n",
            "[[3]\n",
            " [3]\n",
            " [5]\n",
            " [4]]\n",
            "[[ 6  8  8  8]\n",
            " [ 6  8  8  8]\n",
            " [ 8 10 10 10]\n",
            " [ 7  9  9  9]]\n"
          ]
        }
      ]
    },
    {
      "cell_type": "code",
      "source": [
        "#(1,4)\n",
        "#(3,4)\n",
        "a = np.random.randint(1,6,(1,4))\n",
        "print(a)\n",
        "b = np.random.randint(1,6,(3,4))\n",
        "print(b)\n",
        "print(a+b)"
      ],
      "metadata": {
        "colab": {
          "base_uri": "https://localhost:8080/"
        },
        "id": "9fpeAJHsd7eT",
        "outputId": "8aa12c8b-39b3-4974-d6bb-7b6e56ee90e9"
      },
      "execution_count": null,
      "outputs": [
        {
          "output_type": "stream",
          "name": "stdout",
          "text": [
            "[[3 4 4 2]]\n",
            "[[3 1 5 5]\n",
            " [5 2 3 2]\n",
            " [1 5 2 5]]\n",
            "[[6 5 9 7]\n",
            " [8 6 7 4]\n",
            " [4 9 6 7]]\n"
          ]
        }
      ]
    },
    {
      "cell_type": "code",
      "source": [],
      "metadata": {
        "id": "5P6iVR7wd7nL"
      },
      "execution_count": null,
      "outputs": []
    }
  ]
}